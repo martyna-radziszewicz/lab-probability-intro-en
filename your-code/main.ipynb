{
 "cells": [
  {
   "cell_type": "markdown",
   "metadata": {},
   "source": [
    "# Probability"
   ]
  },
  {
   "cell_type": "markdown",
   "metadata": {},
   "source": [
    "## Challenge 1\n",
    "There is a box with 10 white balls, 12 red balls and 8 black balls. Calculate the probability of:\n",
    "* Taking a white ball out.\n",
    "* Taking a white ball on first extraction and a black ball out on second extraction without replacing the first one.\n",
    "* Taking a white ball on first extraction and a black ball out on second extraction replacing the first one.\n",
    "* Taking 3 balls and them being all different colours."
   ]
  },
  {
   "cell_type": "code",
   "execution_count": 2,
   "metadata": {},
   "outputs": [
    {
     "name": "stdout",
     "output_type": "stream",
     "text": [
      "0.3333333333333333\n"
     ]
    }
   ],
   "source": [
    "# YOUR CODE HERE\n",
    "print(10/30)"
   ]
  },
  {
   "cell_type": "code",
   "execution_count": 3,
   "metadata": {},
   "outputs": [
    {
     "name": "stdout",
     "output_type": "stream",
     "text": [
      "0.09195402298850575\n"
     ]
    }
   ],
   "source": [
    "print((10/30) * (8/29))"
   ]
  },
  {
   "cell_type": "code",
   "execution_count": 4,
   "metadata": {},
   "outputs": [
    {
     "name": "stdout",
     "output_type": "stream",
     "text": [
      "0.08888888888888888\n"
     ]
    }
   ],
   "source": [
    "print((10/30) * (8/30))"
   ]
  },
  {
   "cell_type": "code",
   "execution_count": 6,
   "metadata": {},
   "outputs": [],
   "source": [
    "import math"
   ]
  },
  {
   "cell_type": "code",
   "execution_count": 7,
   "metadata": {},
   "outputs": [
    {
     "name": "stdout",
     "output_type": "stream",
     "text": [
      "4060\n"
     ]
    }
   ],
   "source": [
    "all_comb= math.comb(30,3)\n",
    "print(all_comb)"
   ]
  },
  {
   "cell_type": "code",
   "execution_count": 9,
   "metadata": {},
   "outputs": [
    {
     "name": "stdout",
     "output_type": "stream",
     "text": [
      "0.23645320197044334\n"
     ]
    }
   ],
   "source": [
    "white_comb = math.comb(10,1)\n",
    "red_comb = math.comb(12,1)\n",
    "black_comb = math.comb(8,1)\n",
    "print((white_comb*red_comb*black_comb)/all_comb)"
   ]
  },
  {
   "cell_type": "markdown",
   "metadata": {},
   "source": [
    "## Challenge 2\n",
    "\n",
    "You want to go on picnic on Saturday. You hate rain, and would know to plan your weekend. To help you make a decision, you gather the following data about rainy days:\n",
    "\n",
    "* 40% of all days are cloudy.\n",
    "* About 50% of cloudy days are rainy. \n",
    "* About 20% of non-cloudy days are rainy.\n",
    "\n",
    "What is the chance of rain during next Saturday?"
   ]
  },
  {
   "cell_type": "code",
   "execution_count": 10,
   "metadata": {},
   "outputs": [
    {
     "name": "stdout",
     "output_type": "stream",
     "text": [
      "Probability of rain on Saturday: 32.00%\n"
     ]
    }
   ],
   "source": [
    "# YOUR CODE HERE\n",
    "# Define probabilities\n",
    "P_C = 0.4            # Probability of a cloudy day\n",
    "P_R_given_C = 0.5    # Probability of rain given it's cloudy\n",
    "P_R_given_not_C = 0.2 # Probability of rain given it's not cloudy\n",
    "\n",
    "# Calculate probability of not cloudy\n",
    "P_not_C = 1 - P_C\n",
    "\n",
    "# Apply the law of total probability\n",
    "P_R = (P_R_given_C * P_C) + (P_R_given_not_C * P_not_C)\n",
    "\n",
    "print(f\"Probability of rain on Saturday: {P_R:.2%}\")"
   ]
  },
  {
   "cell_type": "markdown",
   "metadata": {},
   "source": [
    "## Challenge 3\n",
    "\n",
    "A and B are events of a probability such that $P(A) = 0.3$, $P(B) = 0.6$ and $P(A \\cap B) = 0.1$\n",
    "\n",
    "Which of the following statements are true?  \n",
    "**HINT: draw a big Venn Diagram by your side**  \n",
    "* $P(\\overline{A}) = 0.7$\n",
    "* $P(A \\cup B) = 0.6$\n",
    "* $P(A \\cap \\overline{B}) = 0.2$\n",
    "* $P(A \\cup \\overline{A}) = 1$  \n",
    "* $P(A \\cap (B \\cup \\overline{B})) = 0.4$\n",
    "* $P(\\overline{A} \\cap \\overline{B}) = 0.3$\n",
    "* $P(\\overline{A \\cap B}) = 0.9$"
   ]
  },
  {
   "cell_type": "code",
   "execution_count": null,
   "metadata": {},
   "outputs": [
    {
     "name": "stdout",
     "output_type": "stream",
     "text": [
      "P not A= 0.7\n"
     ]
    }
   ],
   "source": [
    "# YOUR CODE HERE\n",
    "print(f'P not A= {1-0.3}')\n",
    "#true"
   ]
  },
  {
   "cell_type": "code",
   "execution_count": null,
   "metadata": {},
   "outputs": [
    {
     "name": "stdout",
     "output_type": "stream",
     "text": [
      "P A and or B = 0.7999999999999999\n"
     ]
    }
   ],
   "source": [
    "print(f'P A and or B = {0.3 + 0.6 - 0.1}')\n",
    "#false"
   ]
  },
  {
   "cell_type": "code",
   "execution_count": 14,
   "metadata": {},
   "outputs": [
    {
     "name": "stdout",
     "output_type": "stream",
     "text": [
      "P A and not B = 0.19999999999999998\n"
     ]
    }
   ],
   "source": [
    "print(f'P A and not B = {0.3 - 0.1}')\n",
    "#true"
   ]
  },
  {
   "cell_type": "code",
   "execution_count": null,
   "metadata": {},
   "outputs": [],
   "source": [
    "#a and not a true"
   ]
  },
  {
   "cell_type": "code",
   "execution_count": null,
   "metadata": {},
   "outputs": [],
   "source": []
  },
  {
   "cell_type": "markdown",
   "metadata": {},
   "source": [
    "## Challenge 4\n",
    "\n",
    " * If someone flies to China, the probability of getting Covid is 1%  \n",
    " * If someone flies to Italy, the probability of getting Covid is 20%  \n",
    "\n",
    "I roll 1 dice with numbers 1, 2, 3, 4, 5, 6:  \n",
    " * If 1: I fly to Italy\n",
    " * If not 1: I fly to China\n",
    "\n",
    "During my trip, I got Covid. What is the probability that I flew to China?"
   ]
  },
  {
   "cell_type": "code",
   "execution_count": 17,
   "metadata": {},
   "outputs": [],
   "source": [
    "# YOUR CODE HERE\n",
    "p_covid_italy = (1/6)*0.2\n",
    "p_covid_china = (5/6)*0.01"
   ]
  },
  {
   "cell_type": "code",
   "execution_count": 18,
   "metadata": {},
   "outputs": [],
   "source": [
    "p_covid = p_covid_italy + p_covid_china"
   ]
  },
  {
   "cell_type": "code",
   "execution_count": 21,
   "metadata": {},
   "outputs": [],
   "source": [
    "p_china_covid = p_covid_china/p_covid"
   ]
  },
  {
   "cell_type": "code",
   "execution_count": 22,
   "metadata": {},
   "outputs": [
    {
     "data": {
      "text/plain": [
       "0.2"
      ]
     },
     "execution_count": 22,
     "metadata": {},
     "output_type": "execute_result"
    }
   ],
   "source": [
    "p_china_covid"
   ]
  },
  {
   "cell_type": "markdown",
   "metadata": {},
   "source": [
    "## BONUS\n",
    "\n",
    "You roll 2 dice. What is the probability that the sum of the numbers is 7? And 8? And 9? Then simulate 10000 times and draw a countplot."
   ]
  },
  {
   "cell_type": "markdown",
   "metadata": {},
   "source": [
    "your explanation here"
   ]
  },
  {
   "cell_type": "code",
   "execution_count": 23,
   "metadata": {},
   "outputs": [
    {
     "name": "stdout",
     "output_type": "stream",
     "text": [
      "Theoretical Probability of Sum = 7: 0.1667\n",
      "Theoretical Probability of Sum = 8: 0.1389\n",
      "Theoretical Probability of Sum = 9: 0.1111\n",
      "\n",
      "Empirical Probability of Sum = 7: 0.1718\n",
      "Empirical Probability of Sum = 8: 0.1408\n",
      "Empirical Probability of Sum = 9: 0.1138\n"
     ]
    },
    {
     "name": "stderr",
     "output_type": "stream",
     "text": [
      "/var/folders/8m/yz8tmn5d3ns2cwtr98zklxtw0000gn/T/ipykernel_99522/2478785102.py:53: FutureWarning: \n",
      "\n",
      "Passing `palette` without assigning `hue` is deprecated and will be removed in v0.14.0. Assign the `x` variable to `hue` and set `legend=False` for the same effect.\n",
      "\n",
      "  sns.countplot(x=\"Sum\", data=df, palette=\"viridis\")\n"
     ]
    },
    {
     "data": {
      "image/png": "[encoded data removed]",
      "text/plain": [
       "<Figure size 1000x600 with 1 Axes>"
      ]
     },
     "metadata": {},
     "output_type": "display_data"
    }
   ],
   "source": [
    "# YOUR CODE HERE\n",
    "\n",
    "import random\n",
    "import matplotlib.pyplot as plt\n",
    "import seaborn as sns\n",
    "import pandas as pd\n",
    "\n",
    "# Define a function to calculate theoretical probability\n",
    "def theoretical_probability(sum_value):\n",
    "    # Define possible combinations for each sum\n",
    "    combinations = {\n",
    "        7: 6,  # (1,6), (2,5), (3,4), (4,3), (5,2), (6,1)\n",
    "        8: 5,  # (2,6), (3,5), (4,4), (5,3), (6,2)\n",
    "        9: 4   # (3,6), (4,5), (5,4), (6,3)\n",
    "    }\n",
    "    # Total possible outcomes with two dice\n",
    "    total_outcomes = 6 * 6\n",
    "    return combinations.get(sum_value, 0) / total_outcomes\n",
    "\n",
    "# Calculate theoretical probabilities\n",
    "theoretical_prob_7 = theoretical_probability(7)\n",
    "theoretical_prob_8 = theoretical_probability(8)\n",
    "theoretical_prob_9 = theoretical_probability(9)\n",
    "\n",
    "print(f\"Theoretical Probability of Sum = 7: {theoretical_prob_7:.4f}\")\n",
    "print(f\"Theoretical Probability of Sum = 8: {theoretical_prob_8:.4f}\")\n",
    "print(f\"Theoretical Probability of Sum = 9: {theoretical_prob_9:.4f}\")\n",
    "\n",
    "# Simulation settings\n",
    "num_trials = 10000\n",
    "sums = []\n",
    "\n",
    "# Simulate rolling two dice\n",
    "for _ in range(num_trials):\n",
    "    die1 = random.randint(1, 6)\n",
    "    die2 = random.randint(1, 6)\n",
    "    sums.append(die1 + die2)\n",
    "\n",
    "# Create a DataFrame for visualization\n",
    "df = pd.DataFrame(sums, columns=[\"Sum\"])\n",
    "\n",
    "# Calculate empirical probabilities\n",
    "empirical_prob_7 = sums.count(7) / num_trials\n",
    "empirical_prob_8 = sums.count(8) / num_trials\n",
    "empirical_prob_9 = sums.count(9) / num_trials\n",
    "\n",
    "print(f\"\\nEmpirical Probability of Sum = 7: {empirical_prob_7:.4f}\")\n",
    "print(f\"Empirical Probability of Sum = 8: {empirical_prob_8:.4f}\")\n",
    "print(f\"Empirical Probability of Sum = 9: {empirical_prob_9:.4f}\")\n",
    "\n",
    "# Plot a countplot for the sums\n",
    "plt.figure(figsize=(10, 6))\n",
    "sns.countplot(x=\"Sum\", data=df, palette=\"viridis\")\n",
    "plt.title(\"Countplot of Sums from Rolling Two Dice (10,000 Trials)\")\n",
    "plt.xlabel(\"Sum of Two Dice\")\n",
    "plt.ylabel(\"Count\")\n",
    "plt.grid(axis='y', linestyle='--', alpha=0.7)\n",
    "plt.show()"
   ]
  }
 ],
 "metadata": {
  "kernelspec": {
   "display_name": ".venv",
   "language": "python",
   "name": "python3"
  },
  "language_info": {
   "codemirror_mode": {
    "name": "ipython",
    "version": 3
   },
   "file_extension": ".py",
   "mimetype": "text/x-python",
   "name": "python",
   "nbconvert_exporter": "python",
   "pygments_lexer": "ipython3",
   "version": "3.12.4"
  },
  "toc": {
   "base_numbering": 1,
   "nav_menu": {},
   "number_sections": false,
   "sideBar": true,
   "skip_h1_title": false,
   "title_cell": "Table of Contents",
   "title_sidebar": "Contents",
   "toc_cell": false,
   "toc_position": {
    "height": "calc(100% - 180px)",
    "left": "10px",
    "top": "150px",
    "width": "296.475px"
   },
   "toc_section_display": true,
   "toc_window_display": false
  },
  "varInspector": {
   "cols": {
    "lenName": 16,
    "lenType": 16,
    "lenVar": 40
   },
   "kernels_config": {
    "python": {
     "delete_cmd_postfix": "",
     "delete_cmd_prefix": "del ",
     "library": "var_list.py",
     "varRefreshCmd": "print(var_dic_list())"
    },
    "r": {
     "delete_cmd_postfix": ") ",
     "delete_cmd_prefix": "rm(",
     "library": "var_list.r",
     "varRefreshCmd": "cat(var_dic_list()) "
    }
   },
   "types_to_exclude": [
    "module",
    "function",
    "builtin_function_or_method",
    "instance",
    "_Feature"
   ],
   "window_display": false
  }
 },
 "nbformat": 4,
 "nbformat_minor": 2
}
